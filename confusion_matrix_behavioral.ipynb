{
 "cells": [
  {
   "cell_type": "code",
   "execution_count": null,
   "id": "5a3bb59b",
   "metadata": {},
   "outputs": [],
   "source": [
    "import pandas as pd\n",
    "import os\n",
    "from scipy.stats import norm\n",
    "import statistics\n",
    "import csv\n",
    "import matplotlib.pyplot as plt\n",
    "%matplotlib qt\n",
    "%gui qt5\n",
    "import sklearn \n",
    "from sklearn.metrics import confusion_matrix, ConfusionMatrixDisplay\n",
    "import seaborn as sns\n",
    "import numpy as np"
   ]
  },
  {
   "cell_type": "code",
   "execution_count": null,
   "id": "ab9babb2",
   "metadata": {},
   "outputs": [],
   "source": [
    "#importing trials results files for all subjects\n",
    "\n",
    "overwrite = True\n",
    "eyetracking_path = r'D:\\Master_thesis\\Final_data'\n",
    "file_path = r'MainTask\\Unity\\S001\\trial_results.csv'\n",
    "                     \n",
    "subjects_list = []\n",
    "append_data = []\n",
    "\n",
    "for subjects in os.listdir(eyetracking_path): \n",
    "    if subjects.startswith(\"VR2FEM_S\"):\n",
    "        df = pd.read_csv(os.path.join(eyetracking_path,subjects,file_path))\n",
    "        append_data.append(df)\n",
    "                           \n",
    "eyetracking_data = pd.concat(append_data)\n",
    "\n",
    "# print(eyetracking_data['emo'])                            "
   ]
  },
  {
   "cell_type": "code",
   "execution_count": null,
   "id": "12f5c812",
   "metadata": {},
   "outputs": [],
   "source": [
    "leng = eyetracking_data.groupby(['emo', 'stereo'])['emo'].count()\n",
    "# print(leng)\n",
    "correct_response = eyetracking_data.groupby(['emo'])['correct_response'].sum()\n",
    "others_selection = eyetracking_data['selected_emotion'].value_counts()\n",
    "\n",
    "print(f\"\"\"Number of corrrect resposes for neutral face: {correct_response[1]} out of {leng[1]}\n",
    "Number of corrrect resposes for happy face: {correct_response[2]} out of {leng[2]}\n",
    "Number of corrrect resposes for surprised face: {correct_response[3]} out of {leng[3]}\n",
    "Number of corrrect resposes for angry face: {correct_response[4]} out of {leng[4]}\n",
    "Number of times 'other' was selected: {others_selection[5]}\n",
    "Number of missed responses: {others_selection[-1]}\"\"\")"
   ]
  },
  {
   "cell_type": "code",
   "execution_count": null,
   "id": "bb197535",
   "metadata": {},
   "outputs": [],
   "source": [
    "#plot confusion matrices\n",
    "\n",
    "eyetracking_data_cf = eyetracking_data[eyetracking_data.selected_emotion != -1]\n",
    "\n",
    "\n",
    "eyetracking_data_mono = eyetracking_data_cf[eyetracking_data_cf.stereo == 0]\n",
    "eyetracking_data_stereo = eyetracking_data_cf[eyetracking_data_cf.stereo == 1]\n",
    "\n",
    "cf_matrix = confusion_matrix(eyetracking_data_cf .emo, eyetracking_data_cf .selected_emotion)\n",
    "cf_matrix_mono = confusion_matrix(eyetracking_data_mono .emo, eyetracking_data_mono .selected_emotion)\n",
    "cm_normalized_mono = cf_matrix_mono.astype(float) / cf_matrix_mono.sum(axis=1)[:, np.newaxis]\n",
    "cf_matrix_stereo = confusion_matrix(eyetracking_data_stereo .emo, eyetracking_data_stereo .selected_emotion)\n",
    "cm_normalized_stereo = cf_matrix_stereo.astype(float) / cf_matrix_stereo.sum(axis=1)[:, np.newaxis]\n",
    "print(cf_matrix_mono)\n",
    "print(eyetracking_data_cf .emo.shape)\n",
    "ax = sns.heatmap(cf_matrix, cmap='Greens')\n",
    "ax.set_title('Behavioural Confusion Matrix')\n",
    "ax.xaxis.set_ticklabels(['Neutral','Happy',  'Angry', 'Surprised','Others'])\n",
    "ax.yaxis.set_ticklabels(['Neutral','Happy', 'Angry', 'Surprised', 'Others'])\n",
    "plt.show()"
   ]
  },
  {
   "cell_type": "markdown",
   "id": "26c615b8",
   "metadata": {},
   "source": [
    "### Stereoscopic confusion matrix"
   ]
  },
  {
   "cell_type": "code",
   "execution_count": null,
   "id": "ff30663f",
   "metadata": {},
   "outputs": [],
   "source": [
    "ax = sns.heatmap(cm_normalized_stereo, cmap='Greens')\n",
    "ax.set_title('Confusion Matrix for Stereoscopic view')\n",
    "ax.xaxis.set_ticklabels(['Neutral','Happy',  'Angry', 'Surprised','Others'])\n",
    "ax.yaxis.set_ticklabels(['Neutral','Happy', 'Angry', 'Surprised', 'Others'])\n",
    "plt.show()\n",
    "resolution_value = 1200\n",
    "plt.savefig(f'Stereoscopic confusion matrix.jpg', dpi=resolution_value)"
   ]
  },
  {
   "cell_type": "markdown",
   "id": "b0361598",
   "metadata": {},
   "source": [
    "### Monoscopic confusion matrix"
   ]
  },
  {
   "cell_type": "code",
   "execution_count": null,
   "id": "32dc84df",
   "metadata": {},
   "outputs": [],
   "source": [
    "ax = sns.heatmap(cm_normalized_mono, cmap='Greens')\n",
    "ax.set_title('Behavioural Confusion Matrix for Monoscopic View')\n",
    "ax.xaxis.set_ticklabels(['Neutral','Happy',  'Angry', 'Surprised','Others'])\n",
    "ax.yaxis.set_ticklabels(['Neutral','Happy', 'Angry', 'Surprised', 'Others'])\n",
    "plt.show()\n",
    "resolution_value = 1200\n",
    "plt.savefig(f'Monoscopic confusion matrix.jpg', dpi=resolution_value)"
   ]
  },
  {
   "cell_type": "code",
   "execution_count": null,
   "id": "230f3f0a",
   "metadata": {},
   "outputs": [],
   "source": []
  }
 ],
 "metadata": {
  "kernelspec": {
   "display_name": "Python 3 (ipykernel)",
   "language": "python",
   "name": "python3"
  },
  "language_info": {
   "codemirror_mode": {
    "name": "ipython",
    "version": 3
   },
   "file_extension": ".py",
   "mimetype": "text/x-python",
   "name": "python",
   "nbconvert_exporter": "python",
   "pygments_lexer": "ipython3",
   "version": "3.9.5"
  }
 },
 "nbformat": 4,
 "nbformat_minor": 5
}
