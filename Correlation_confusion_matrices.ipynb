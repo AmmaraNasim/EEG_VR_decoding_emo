{
 "cells": [
  {
   "cell_type": "code",
   "execution_count": null,
   "id": "bb8f92d5",
   "metadata": {},
   "outputs": [],
   "source": [
    "%matplotlib qt\n",
    "%gui qt5\n",
    "%matplotlib inline"
   ]
  },
  {
   "cell_type": "code",
   "execution_count": null,
   "id": "2429c2a6",
   "metadata": {},
   "outputs": [],
   "source": [
    "import pandas as pd\n",
    "import numpy as np\n",
    "import os\n",
    "import os.path as op\n",
    "\n",
    "from os.path import exists\n",
    "import csv\n",
    "import matplotlib.pyplot as plt\n",
    "import mne\n",
    "\n",
    "from mne.decoding import SlidingEstimator\n",
    "from sklearn.utils import shuffle\n",
    "import sklearn\n",
    "from sklearn.pipeline import make_pipeline\n",
    "from sklearn.preprocessing import StandardScaler\n",
    "from sklearn.linear_model import LogisticRegression\n",
    "from sklearn.linear_model import ElasticNet\n",
    "import batch_average as ba\n",
    "from sklearn.metrics import confusion_matrix, ConfusionMatrixDisplay\n",
    "# to save trained models and load using for making predictions\n",
    "from joblib import dump, load\n",
    "import scipy\n",
    "\n",
    "import matplotlib.pyplot as plt\n",
    "import seaborn as sns\n",
    "from sklearn import metrics\n",
    "import remove_diag as rd"
   ]
  },
  {
   "cell_type": "markdown",
   "id": "b5706602",
   "metadata": {},
   "source": [
    "## Decoding scores/matrices"
   ]
  },
  {
   "cell_type": "code",
   "execution_count": null,
   "id": "ae0cdd32",
   "metadata": {
    "scrolled": true
   },
   "outputs": [],
   "source": [
    "subject_models_df = pd.read_csv(r'D:\\Master_thesis\\Scores\\Stereovsmono\\subject_models_dfx {view}.csv')\n",
    "print(subject_models_df)\n",
    "\n",
    "# -------------------------- best model logic per subject and viewing type---------------------------\n",
    "\n",
    "best_model_index = subject_models_df.\\\n",
    "    groupby(['subject_id', 'viewing_type'])['scores'].transform(max) == subject_models_df['scores']\n",
    "\n",
    "\n",
    "best_model_replica = subject_models_df[best_model_index]\n",
    "# subject_models_df[best_model_index]\n",
    "\n",
    "best_model = best_model_replica.drop_duplicates(subset=['subject_id', 'viewing_type'], keep=\"first\")\n",
    "best_model"
   ]
  },
  {
   "cell_type": "markdown",
   "id": "8f9af31b",
   "metadata": {},
   "source": [
    "## Behavioural scores/matrices"
   ]
  },
  {
   "cell_type": "code",
   "execution_count": null,
   "id": "9bfc1c0b",
   "metadata": {},
   "outputs": [],
   "source": [
    "#importing trials results files for all subjects\n",
    "\n",
    "overwrite = True\n",
    "eyetracking_path = r'D:\\Master_thesis\\Final_data'\n",
    "file_path = r'MainTask\\Unity\\S001\\trial_results.csv'\n",
    "                     \n",
    "subjects_list = []\n",
    "append_data = []\n",
    "\n",
    "for subjects in os.listdir(eyetracking_path): \n",
    "    if subjects.startswith(\"VR2FEM_S\"):\n",
    "        df = pd.read_csv(os.path.join(eyetracking_path,subjects,file_path))\n",
    "        append_data.append(df)\n",
    "                           \n",
    "eyetracking_data = pd.concat(append_data)\n",
    "\n",
    "# print(eyetracking_data['emo'])   "
   ]
  },
  {
   "cell_type": "code",
   "execution_count": null,
   "id": "cc806940",
   "metadata": {},
   "outputs": [],
   "source": [
    "#plot confusion matrices\n",
    "\n",
    "eyetracking_data_cf = eyetracking_data[eyetracking_data.selected_emotion != -1]"
   ]
  },
  {
   "cell_type": "markdown",
   "id": "22925655",
   "metadata": {},
   "source": [
    "## Correlation between matrix"
   ]
  },
  {
   "cell_type": "code",
   "execution_count": null,
   "id": "04514926",
   "metadata": {},
   "outputs": [],
   "source": [
    "rho_fisher_list = []\n",
    "rho_fisher_list_mean = []\n",
    "viewing_condition = ['mono', 'stereo']\n",
    "\n",
    "for view in viewing_condition:\n",
    "    rho_fisher_list = []\n",
    "    for subjects in best_model['subject_id'].unique():\n",
    "    \n",
    "        prediction = best_model['predictions'].loc[(best_model['subject_id'] == subjects) & (best_model['viewing_type'] == view)]\n",
    "        prediction_list = prediction.tolist()[0]\n",
    "        p=prediction_list.split()\n",
    "        p[0] = p[0].replace('[',\"\")\n",
    "        p[-1] = p[-1].replace(']',\"\")\n",
    "        p=[eval(i) for i in p]\n",
    "        prediction_dm = p\n",
    "\n",
    "        \n",
    "        true= best_model['y_test'].loc[(best_model['subject_id'] == subjects) & (best_model['viewing_type'] == view)]\n",
    "        true_list = true.tolist()[0]\n",
    "        t=true_list.split()\n",
    "        t[0] = t[0].replace('[',\"\")\n",
    "        t[-1] = t[-1].replace(']',\"\")\n",
    "        t=[eval(i) for i in t]\n",
    "        true_dm = t\n",
    "        if view=='mono': i=0 \n",
    "        else: i=1\n",
    "        prediction_bm = eyetracking_data_cf['selected_emotion'].loc[(eyetracking_data_cf['ppid'] == subjects) & (eyetracking_data_cf['stereo'] == i)]\n",
    "        true_bm = eyetracking_data_cf['emo'].loc[(eyetracking_data_cf['ppid'] == subjects) & (eyetracking_data_cf['stereo'] == i)]\n",
    "\n",
    "        cf_matrix_dm = confusion_matrix(true_dm, prediction_dm)\n",
    "        cf_matrix_dm_nd = rd.remove_diag(cf_matrix_dm)\n",
    "\n",
    "\n",
    "        cf_matrix_bm = confusion_matrix(true_bm, prediction_bm)\n",
    "        cf_matrix_bm_nd = rd.remove_diag(cf_matrix_bm)\n",
    "        if cf_matrix_bm.shape == (5,5):\n",
    "            cf_matrix_bm_del = np.delete(cf_matrix_bm_nd, 4, 0)\n",
    "            cf_matrix_bm_del = np.delete(cf_matrix_bm_del, 3, 1)\n",
    "\n",
    "        cf_matrix_dm_spr = cf_matrix_dm_nd.flatten()\n",
    "        cf_matrix_bm_spr = cf_matrix_bm_del.flatten()\n",
    "\n",
    "        rho, pval = scipy.stats.spearmanr(cf_matrix_dm_spr,cf_matrix_bm_spr)\n",
    "\n",
    "        rho_fisher = np.arctanh(rho)\n",
    "\n",
    "        rho_fisher_list.append(rho_fisher)\n",
    "    rho_fisher_mean= np.nanmean(rho_fisher_list)\n",
    "    rho_fisher_list_mean.append(rho_fisher_mean)\n",
    "print(rho_fisher_list_mean)"
   ]
  },
  {
   "cell_type": "code",
   "execution_count": null,
   "id": "38e04a02",
   "metadata": {},
   "outputs": [],
   "source": []
  }
 ],
 "metadata": {
  "kernelspec": {
   "display_name": "Python 3 (ipykernel)",
   "language": "python",
   "name": "python3"
  },
  "language_info": {
   "codemirror_mode": {
    "name": "ipython",
    "version": 3
   },
   "file_extension": ".py",
   "mimetype": "text/x-python",
   "name": "python",
   "nbconvert_exporter": "python",
   "pygments_lexer": "ipython3",
   "version": "3.9.5"
  }
 },
 "nbformat": 4,
 "nbformat_minor": 5
}
