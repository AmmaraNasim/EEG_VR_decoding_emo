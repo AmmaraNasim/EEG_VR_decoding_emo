{
 "cells": [
  {
   "cell_type": "code",
   "execution_count": null,
   "id": "05dd3de1",
   "metadata": {},
   "outputs": [],
   "source": [
    "%matplotlib qt\n",
    "%gui qt5\n",
    "%matplotlib inline"
   ]
  },
  {
   "cell_type": "code",
   "execution_count": null,
   "id": "8d653ab6",
   "metadata": {},
   "outputs": [],
   "source": [
    "import pandas as pd\n",
    "import numpy as np\n",
    "import os\n",
    "import os.path as op\n",
    "import matplotlib.pyplot as plt\n",
    "import mne\n",
    "import csv\n",
    "import batch_average as ba\n",
    "from sklearn.utils import shuffle\n",
    "import sklearn\n",
    "from sklearn.pipeline import make_pipeline\n",
    "from sklearn.preprocessing import StandardScaler\n",
    "from sklearn.linear_model import LogisticRegression\n",
    "from sklearn.linear_model import ElasticNet\n",
    "from sklearn.model_selection import GridSearchCV"
   ]
  },
  {
   "cell_type": "markdown",
   "id": "d04f853e",
   "metadata": {},
   "source": [
    "### Importing preprocessed data - epochs"
   ]
  },
  {
   "cell_type": "code",
   "execution_count": null,
   "id": "5c39098a",
   "metadata": {
    "scrolled": true
   },
   "outputs": [],
   "source": [
    "overwrite = True\n",
    "eeg_path = r'D:\\Master_thesis\\Pre-processed_data'\n",
    "data_path_out = r'D:\\Master_thesis\\Scores\\Binary classification\\Stereo_ERP_windows'"
   ]
  },
  {
   "cell_type": "markdown",
   "id": "fe555683",
   "metadata": {},
   "source": [
    "### Windows ERP- Stereo vs Mono"
   ]
  },
  {
   "cell_type": "code",
   "execution_count": null,
   "id": "728121b9",
   "metadata": {
    "scrolled": true
   },
   "outputs": [],
   "source": [
    "emotion_combinations = [[\"mono/happy\", \"mono/neutral\"],[\"mono/happy\", \"mono/angry\"], [\"mono/happy\", \"mono/surprised\"], [\"mono/neutral\", \"mono/angry\"], [\"mono/neutral\", \"mono/surprised\"], \n",
    "                       [\"mono/angry\", \"mono/surprised\"]],[[\"stereo/happy\", \"stereo/neutral\"], [\"stereo/happy\", \"stereo/angry\"], [\"stereo/happy\", \"stereo/surprised\"], \n",
    "                       [\"stereo/neutral\", \"stereo/angry\"], [\"stereo/neutral\", \"stereo/surprised\"], [\"stereo/angry\", \"stereo/surprised\"]]\n",
    "                        \n",
    "                        \n",
    "emo_comb_num = [1, 2, 3, 4, 5, 6]\n",
    "scores_avg_all = []\n",
    "scores_all  = []\n",
    "\n",
    "\n",
    "l1_ratio = [0.05, 0.1, 0.2, 0.3, 0.4, 0.5, 0.6, 0.7, 0.8, 0.9]\n",
    "C = [0.1, 0.2, 0.3, 0.5, 0.6, 0.8, 0.9, 1, 1.1, 1.2, 1.5, 1.7, 2, 3, 4]\n",
    "scoring = 'accuracy' \n",
    "\n",
    "viewing_condition = [0, 1]\n",
    "\n",
    "\n",
    "n_split = np.arange(1, 6 , dtype = int)\n",
    "\n",
    "# n_split = [1]\n",
    "\n",
    "\n",
    "windows_time = [\"P1\", 0.08, 0.12], [\"N170\", 0.14, 0.20] ,[\"EPN\", 0.15, 0.35], [\"LPC\", 0.40, 0.60]\n",
    "win_comb_num = [1, 2, 3, 4]\n",
    "# win_comb_num = [1]\n",
    "\n",
    "subjects = ['VR2FEM_S07', 'VR2FEM_S08', 'VR2FEM_S10', 'VR2FEM_S11', 'VR2FEM_S12', 'VR2FEM_S14', 'VR2FEM_S15', 'VR2FEM_S17', 'VR2FEM_S18', 'VR2FEM_S21']\n",
    "\n",
    "for subject in subjects:\n",
    "    data_path = os.path.join(eeg_path, subject)\n",
    "            #reading preprocessed data -epochs\n",
    "    epochs_train_list = []\n",
    "    epochs_test_list = []\n",
    "    for items in n_split:\n",
    "        epochs_train_name = os.path.join(f\"{data_path}\\{subject}-preprocessed_train_{items}-epo.fif\")\n",
    "        epochs_test_name = os.path.join(f\"{data_path}\\{subject}-preprocessed_test_{items}-epo.fif\")\n",
    "        epochs_train = mne.read_epochs(epochs_train_name, preload=True)\n",
    "        epochs_test = mne.read_epochs(epochs_test_name, preload=True)\n",
    "        epochs_train_list.append(epochs_train)\n",
    "        epochs_test_list.append(epochs_test)\n",
    "\n",
    "    for view in viewing_condition:\n",
    "        print(f\"Viewing Condition: {view}\")\n",
    "        for com_num in emo_comb_num:\n",
    "            print(f\"Number of emo combination: {com_num}\")\n",
    "            for windows in win_comb_num:\n",
    "                wins = windows-1\n",
    "                print(f\"Window split: {windows_time[wins][0]}\")\n",
    "                scores_avg_all = []\n",
    "                for l1 in l1_ratio:\n",
    "                    for cs in C:\n",
    "                        print(\"Running reg. ratio for: \",l1)\n",
    "                        print(\"Running reg. strength for: \",cs)   \n",
    "                        clf = make_pipeline(\n",
    "                        StandardScaler(),\n",
    "                        LogisticRegression(max_iter = 4000, solver='saga',penalty='elasticnet', l1_ratio=l1, C=cs))\n",
    "\n",
    "                        scores_all  = []\n",
    "\n",
    "                        for split in n_split:\n",
    "                            n = split-1 \n",
    "                            print(f\"Number of split: {split}\")\n",
    "                            scores_all_scaler  = []\n",
    "                            epochs_train = epochs_train_list[n][emotion_combinations[view][com_num-1][0], emotion_combinations[view][com_num-1][1]].copy().crop(windows_time[wins][1], windows_time[wins][2])\n",
    "                            events_train = epochs_train_list[n][emotion_combinations[view][com_num-1][0], emotion_combinations[view][com_num-1][1]].events[:,2]\n",
    "                            x_train = np.mean(epochs_train, axis = 2)\n",
    "                            y_train = [int(str(yy)[-1]) for yy in events_train]\n",
    "    #                             scaler.fit(x_train)\n",
    "    #                             x_train_scaler = scaler.transform(x_train)\n",
    "\n",
    "                            epochs_test = epochs_test_list[n][emotion_combinations[view][com_num-1][0], emotion_combinations[view][com_num-1][1]].copy().crop(windows_time[wins][1], windows_time[wins][2])\n",
    "                            events_test = epochs_test_list[n][emotion_combinations[view][com_num-1][0],emotion_combinations[view][com_num-1][1]].events[:,2]\n",
    "                            x_test = np.mean(epochs_test, axis = 2)\n",
    "                            y_test = [int(str(yy)[-1]) for yy in events_test]\n",
    "    #                             scaler.fit(x_test)\n",
    "    #                             x_test_scaler = scaler.transform(x_test)\n",
    "\n",
    "\n",
    "                            clf.fit(x_train, y_train)\n",
    "                            clf.predict(x_test)\n",
    "                            score_scaler = clf.score(x_test, y_test)\n",
    "                        #     scores_all_scaler.append(score_scaler)\n",
    "                            scores_all.append(score_scaler)\n",
    "\n",
    "                        scores_CV= np.vstack(scores_all)\n",
    "#                         print(scores_CV)\n",
    "                        scores_avg = np.mean(scores_CV, axis=0)\n",
    "#                         print(scores_avg)\n",
    "                        scores_avg_all.append(scores_avg)\n",
    "\n",
    "                scores_avg_best = max(scores_avg_all)\n",
    "\n",
    "    #                 print(\"scores_avg_scaler_best\", scores_avg_scaler_best.item())\n",
    "                print(f\"Average score: {scores_avg_best}\")\n",
    "                dir_save= os.path.join(data_path_out, subject)\n",
    "                if not op.exists(dir_save):\n",
    "                            os.makedirs(dir_save)\n",
    "                score_file_name = f\"{dir_save}\\{subject}_{emotion_combinations[view][com_num-1][0].replace('/','__')} vs {emotion_combinations[view][com_num-1][1].replace('/','__')}_{windows_time[wins][0]}.csv\"\n",
    "                print(score_file_name)\n",
    "                with open(score_file_name, \"w\") as file: \n",
    "                    writer = csv.writer(file)\n",
    "                    writer.writerow([scores_avg_best.item()])\n"
   ]
  },
  {
   "cell_type": "code",
   "execution_count": null,
   "id": "378bde0f",
   "metadata": {},
   "outputs": [],
   "source": []
  }
 ],
 "metadata": {
  "kernelspec": {
   "display_name": "Python 3 (ipykernel)",
   "language": "python",
   "name": "python3"
  },
  "language_info": {
   "codemirror_mode": {
    "name": "ipython",
    "version": 3
   },
   "file_extension": ".py",
   "mimetype": "text/x-python",
   "name": "python",
   "nbconvert_exporter": "python",
   "pygments_lexer": "ipython3",
   "version": "3.9.5"
  }
 },
 "nbformat": 4,
 "nbformat_minor": 5
}
