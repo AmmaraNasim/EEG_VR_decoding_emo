{
 "cells": [
  {
   "cell_type": "code",
   "execution_count": null,
   "id": "5a3bb59b",
   "metadata": {},
   "outputs": [],
   "source": [
    "import pandas as pd\n",
    "import os\n",
    "from scipy.stats import norm\n",
    "import statistics\n",
    "import csv\n",
    "import matplotlib.pyplot as plt\n",
    "%matplotlib qt\n",
    "%gui qt5\n",
    "import sklearn \n",
    "from sklearn.metrics import confusion_matrix, ConfusionMatrixDisplay\n",
    "import seaborn as sns\n",
    "import numpy as np"
   ]
  },
  {
   "cell_type": "code",
   "execution_count": null,
   "id": "ab9babb2",
   "metadata": {},
   "outputs": [],
   "source": [
    "#importing trials results files for all subjects\n",
    "\n",
    "overwrite = True\n",
    "eyetracking_path = r'D:\\Master_thesis\\Final_data'\n",
    "file_path = r'AvatarReview\\Unity\\S001\\trial_results.csv'\n",
    "                     \n",
    "subjects_list = []\n",
    "append_data = []\n",
    "\n",
    "for subjects in os.listdir(eyetracking_path): \n",
    "    if subjects.startswith(\"VR2FEM_S\"):\n",
    "        df = pd.read_csv(os.path.join(eyetracking_path,subjects,file_path))\n",
    "        append_data.append(df)\n",
    "                           \n",
    "eyetracking_data = pd.concat(append_data)\n",
    "\n",
    "print(eyetracking_data)                            "
   ]
  },
  {
   "cell_type": "code",
   "execution_count": null,
   "id": "0603aa3a",
   "metadata": {},
   "outputs": [],
   "source": [
    "eyetracking_data_mono = eyetracking_data[eyetracking_data.stereo == 0]\n",
    "eyetracking_data_stereo = eyetracking_data[eyetracking_data.stereo == 1]\n",
    "eyetracking_data_mono['selected_manikin']"
   ]
  },
  {
   "cell_type": "code",
   "execution_count": null,
   "id": "8caf8752",
   "metadata": {},
   "outputs": [],
   "source": [
    "eyetracking_data.head()"
   ]
  },
  {
   "cell_type": "code",
   "execution_count": null,
   "id": "478fe7ed",
   "metadata": {
    "scrolled": true
   },
   "outputs": [],
   "source": [
    "# eyetracking_data.head()\n",
    "test_pivot = eyetracking_data.pivot_table(index=['emo', 'ppid', 'avatar'], columns='stereo', values='selected_manikin')\n",
    "test_pivot.head(1000)\n",
    "\n"
   ]
  },
  {
   "cell_type": "code",
   "execution_count": null,
   "id": "20ed0698",
   "metadata": {},
   "outputs": [],
   "source": [
    "test_pivot.columns.name= None\n",
    "test_pivot_clean = test_pivot.reset_index()\n",
    "test_pivot_clean.head(1000)\n",
    "\n",
    "test_pivot_clean.columns\n",
    "\n",
    "test_pivot_clean = test_pivot_clean.rename(columns={\n",
    "    test_pivot_clean.columns[3]: 'mono', \n",
    "    test_pivot_clean.columns[4]: 'stereo', \n",
    "    })\n",
    "print(test_pivot_clean.columns)"
   ]
  },
  {
   "cell_type": "code",
   "execution_count": null,
   "id": "01da0a30",
   "metadata": {},
   "outputs": [],
   "source": []
  },
  {
   "cell_type": "code",
   "execution_count": null,
   "id": "4a3a057f",
   "metadata": {},
   "outputs": [],
   "source": [
    "eyetracking_data.groupby(['emo'])['selected_manikin'].std()"
   ]
  },
  {
   "cell_type": "code",
   "execution_count": null,
   "id": "ae044000",
   "metadata": {},
   "outputs": [],
   "source": [
    "# df = pd.DataFrame({'Group':['A','A','A','B','C','B','B','C','A','C'],\\\n",
    "#                   'Apple':np.random.rand(10),'Orange':np.random.rand(10)})\n",
    "# df = df[['Group','Apple','Orange']]\n",
    "# df.head()"
   ]
  },
  {
   "cell_type": "code",
   "execution_count": null,
   "id": "a96cf8d4",
   "metadata": {},
   "outputs": [],
   "source": [
    "test_pivot_clean.head(1000)"
   ]
  },
  {
   "cell_type": "code",
   "execution_count": null,
   "id": "14ebed51",
   "metadata": {},
   "outputs": [],
   "source": [
    "# import pandas as pd\n",
    "# import matplotlib.pyplot as plt\n",
    "# import seaborn as sns\n",
    "# dd=pd.melt(df,id_vars=['Group'],value_vars=['Apple','Orange'],var_name='fruits')\n",
    "# sns.boxplot(x='Group',y='value',data=dd,hue='fruits')"
   ]
  },
  {
   "cell_type": "code",
   "execution_count": null,
   "id": "5b5a343c",
   "metadata": {},
   "outputs": [],
   "source": [
    "import pandas as pd\n",
    "import matplotlib.pyplot as plt\n",
    "import seaborn as sns\n",
    "dd=pd.melt(test_pivot_clean,id_vars=['emo'],value_vars=['mono', 'stereo'],var_name='Viewing Condition')\n",
    "plot = sns.boxplot(x='emo',y='value',data=dd,hue='Viewing Condition')\n",
    "plt.xticks([0, 1, 2, 3], ['Neutral', 'Happy', 'Angry', 'Surprised'])\n",
    "plot.set_title('Self-Assessment Manikin (SAM) Intensity Rating')\n",
    "plot.set_xlabel('Emotion')\n",
    "plot.set_ylabel('Intensity score')\n",
    "resolution_value = 1200\n",
    "plt.savefig(f'Self-Assessment Manikin (SAM) Intensity Rating.jpg', dpi=resolution_value)\n",
    "\n"
   ]
  },
  {
   "cell_type": "code",
   "execution_count": null,
   "id": "3e3752f1",
   "metadata": {},
   "outputs": [],
   "source": []
  }
 ],
 "metadata": {
  "kernelspec": {
   "display_name": "Python 3 (ipykernel)",
   "language": "python",
   "name": "python3"
  },
  "language_info": {
   "codemirror_mode": {
    "name": "ipython",
    "version": 3
   },
   "file_extension": ".py",
   "mimetype": "text/x-python",
   "name": "python",
   "nbconvert_exporter": "python",
   "pygments_lexer": "ipython3",
   "version": "3.9.5"
  }
 },
 "nbformat": 4,
 "nbformat_minor": 5
}
