{
 "cells": [
  {
   "cell_type": "code",
   "execution_count": null,
   "id": "0b34c5c4",
   "metadata": {},
   "outputs": [],
   "source": [
    "import mne\n",
    "import matplotlib\n",
    "import numpy as np\n",
    "%matplotlib inline\n",
    "import PyQt5\n",
    "%matplotlib qt\n",
    "%gui qt5\n",
    "import os\n",
    "import os.path as op\n",
    "import autoreject\n",
    "from autoreject import AutoReject\n",
    "from autoreject import get_rejection_threshold\n",
    "from sklearn.model_selection import train_test_split\n",
    "from sklearn.model_selection import StratifiedKFold\n",
    "from tqdm import tqdm_notebook as tqdm"
   ]
  },
  {
   "cell_type": "markdown",
   "id": "52204d58",
   "metadata": {},
   "source": [
    "## Importing Raw Data"
   ]
  },
  {
   "cell_type": "code",
   "execution_count": null,
   "id": "6a70b5b1",
   "metadata": {},
   "outputs": [],
   "source": [
    "overwrite = True\n",
    "# eeg_path = r'E:\\Ammara_UOL\\Masters Thesis\\Data\\Final data'\n",
    "eeg_path = r'D:\\Master_thesis\\Final_data'\n",
    "subject = 'VR2FEM_S19'\n",
    "data_path = os.path.join(eeg_path, subject , 'MainTask', 'EEG')\n",
    "raw_fname = os.path.join(data_path,'%s' %subject)"
   ]
  },
  {
   "cell_type": "code",
   "execution_count": null,
   "id": "fb96baf1",
   "metadata": {},
   "outputs": [],
   "source": [
    "#reading eeg raw data\n",
    "raws = []\n",
    "if subject =='VR2FEM_S02':\n",
    "    for files in os.listdir(data_path): \n",
    "        if files.endswith(\".vhdr\"):\n",
    "            file_name = f'{data_path}\\{files}'\n",
    "            raws.append(mne.io.read_raw_brainvision(file_name, preload=True))\n",
    "    raw = mne.concatenate_raws(raws)\n",
    "else: \n",
    "    raw = mne.io.read_raw_brainvision(raw_fname + '.vhdr', preload=True)"
   ]
  },
  {
   "cell_type": "markdown",
   "id": "4b15fc08",
   "metadata": {},
   "source": [
    "### Plotting sensor location"
   ]
  },
  {
   "cell_type": "code",
   "execution_count": null,
   "id": "4a00f917",
   "metadata": {},
   "outputs": [],
   "source": [
    "# Assigning Ocular electrodes\n",
    "raw.set_channel_types(mapping={'AF7': 'eog', 'AF8': 'eog', 'FT9': 'eog', 'FT10': 'eog'})\n",
    "\n",
    "# Setting montage from brainvision montage file\n",
    "montage= mne.channels.read_custom_montage(r'D:\\Master_thesis\\RWKSP_Montages_BVEF_active\\active electrodes\\actiCAP_snap_CACS\\CACS-64\\CACS-64_REF.bvef')\n",
    "raw.set_montage(montage)\n",
    "\n",
    "# Plotting montage\n",
    "raw.plot_sensors(\"topomap\", show_names=True)"
   ]
  },
  {
   "cell_type": "code",
   "execution_count": null,
   "id": "b7160bf2",
   "metadata": {},
   "outputs": [],
   "source": [
    "raw.plot_psd(fmin=0, fmax=40, n_jobs=3)"
   ]
  },
  {
   "cell_type": "code",
   "execution_count": null,
   "id": "bc79db06",
   "metadata": {},
   "outputs": [],
   "source": [
    "# reject vrey bad chans and not interpolate (spherical)\n",
    "raw.info['bads'] = ['FC2', 'FC4']\n",
    "print(raw.info['bads'])\n",
    "\n",
    "picks = mne.pick_types(raw.info, exclude=['bads'])"
   ]
  },
  {
   "cell_type": "code",
   "execution_count": null,
   "id": "543efac9",
   "metadata": {},
   "outputs": [],
   "source": [
    "# raw.plot(order=picks, n_channels=len(picks))"
   ]
  },
  {
   "cell_type": "markdown",
   "id": "7ce88ea1",
   "metadata": {},
   "source": [
    "## Filtering the data"
   ]
  },
  {
   "cell_type": "code",
   "execution_count": null,
   "id": "c6243d72",
   "metadata": {},
   "outputs": [],
   "source": [
    "# Filtering: Band pass filter: 0.1-40Hz\n",
    "sfreq = raw.info['sfreq']\n",
    "l_cutoff = 0.1   \n",
    "h_cutoff = 20   #try 20 Hz\n",
    "iir_params = dict(order=6, ftype='butter')\n",
    "raw_filtered = raw.copy().filter(l_freq=l_cutoff, h_freq=h_cutoff, picks=['eeg'], method='iir', iir_params = iir_params)"
   ]
  },
  {
   "cell_type": "code",
   "execution_count": null,
   "id": "0b55e354",
   "metadata": {},
   "outputs": [],
   "source": [
    "raw_filtered.plot_psd(fmax=20)"
   ]
  },
  {
   "cell_type": "markdown",
   "id": "d8ecbc2f",
   "metadata": {},
   "source": [
    "### Extracting epochs"
   ]
  },
  {
   "cell_type": "code",
   "execution_count": null,
   "id": "af439322",
   "metadata": {},
   "outputs": [],
   "source": [
    "#Creating event dictionary and extracting epochs\n",
    "\n",
    "\n",
    "events_from_annot, event_dictionary  = mne.events_from_annotations(raw)\n",
    "\n",
    "event_dict = {'face/mono/1/neutral':     111,\n",
    "              'face/mono/1/happy':       112,\n",
    "              'face/mono/1/angry':       113,\n",
    "              'face/mono/1/surprised':   114,\n",
    "              'face/mono/2/neutral':     121,\n",
    "              'face/mono/2/happy':       122,\n",
    "              'face/mono/2/angry':       123,\n",
    "              'face/mono/2/surprised':   124,\n",
    "              'face/mono/3/neutral':     131,\n",
    "              'face/mono/3/happy':       132,\n",
    "              'face/mono/3/angry':       133,\n",
    "              'face/mono/3/surprised':   134,\n",
    "              'face/stereo/1/neutral':   211,\n",
    "              'face/stereo/1/happy':     212,\n",
    "              'face/stereo/1/angry':     213,\n",
    "              'face/stereo/1/surprised': 214,\n",
    "              'face/stereo/2/neutral':   221,\n",
    "              'face/stereo/2/happy':     222,\n",
    "              'face/stereo/2/angry':     223,\n",
    "              'face/stereo/2/surprised': 224,\n",
    "              'face/stereo/3/neutral':   231,\n",
    "              'face/stereo/3/happy':     232,\n",
    "              'face/stereo/3/angry':     233,\n",
    "              'face/stereo/3/surprised': 234,\n",
    "             }\n",
    "epochs = mne.Epochs(raw_filtered, events_from_annot, event_id=event_dict, tmin = -0.3, tmax= 1,baseline=None,  preload=True)\n",
    "if subject == 'VR2FEM_S03': epochs  = epochs[:-4]     ## last 4 trials for subject 4 were duplicates so deleting from epochs\n",
    "if subject == 'VR2FEM_S12': epochs  = epochs[3::]\n",
    "if subject == 'VR2FEM_S16': epochs  = epochs.drop(np.where(epochs.events[:, 2]==133)[0][-1])  ## face/mono/3/angry is presented one more time than other emotions\n",
    "if subject == 'VR2FEM_S18': epochs  = epochs[1::]\n",
    "if subject == 'VR2FEM_S21': epochs  = epochs[2::]\n",
    "# Plotting epochs with event markers \n",
    "# epoch_fig = epochs.plot(n_epochs=2, events=events_from_annot)"
   ]
  },
  {
   "cell_type": "markdown",
   "id": "6b6b12f0",
   "metadata": {},
   "source": [
    "## Cleaning the atrifacts and ICA\n",
    "\n",
    "Here first we highpass filter the data, then run autoreject and then using these bad epochs detected by it, to be feed to ICA algorithm, and finally run autoreject (local) again for cleaning data."
   ]
  },
  {
   "cell_type": "code",
   "execution_count": null,
   "id": "9b09af0e",
   "metadata": {},
   "outputs": [],
   "source": [
    "epochs.average().plot()"
   ]
  },
  {
   "cell_type": "code",
   "execution_count": null,
   "id": "eb21f82d",
   "metadata": {},
   "outputs": [],
   "source": [
    "sfreq = raw.info['sfreq']\n",
    "l_cutoff = 1   \n",
    "h_cutoff = 20   #20 Hz\n",
    "iir_params = dict(order=6, ftype='butter')\n",
    "raw_highfilt = raw.copy().filter(l_freq=l_cutoff, h_freq=h_cutoff, picks=['eeg'], method='iir', iir_params = iir_params) #highpass filter on copy of the data to get rid of slow drifts\n",
    "\n",
    "epochs_highfilt = mne.Epochs(raw_highfilt, events_from_annot, event_id=event_dict, tmin = -0.3, tmax= 1,baseline=None, preload=True)\n",
    "if subject == 'VR2FEM_S03': epochs_highfilt  = epochs_highfilt[:-4]     ## last 4 trials for subject 4 were duplicates so deleting from epochs\n",
    "if subject == 'VR2FEM_S12': epochs_highfilt  = epochs_highfilt[3::]\n",
    "if subject == 'VR2FEM_S16': epochs_highfilt  = epochs_highfilt.drop(np.where(epochs_highfilt.events[:, 2]==133)[0][-1]) \n",
    "if subject == 'VR2FEM_S18': epochs_highfilt  = epochs_highfilt[1::] \n",
    "if subject == 'VR2FEM_S21': epochs_highfilt  = epochs_highfilt[2::] "
   ]
  },
  {
   "cell_type": "markdown",
   "id": "cb6f03b6",
   "metadata": {},
   "source": [
    "### Splitting test and training sets"
   ]
  },
  {
   "cell_type": "code",
   "execution_count": null,
   "id": "879f1eee",
   "metadata": {
    "scrolled": false
   },
   "outputs": [],
   "source": [
    "X = epochs_highfilt\n",
    "event = epochs_highfilt.events[:,2] \n",
    "y = np.array([int(str(yy)) for yy in event])\n",
    "\n",
    "n_splits = 5\n",
    "train_index_list = []\n",
    "test_index_list = []\n",
    "\n",
    "random_state= int(input('Enter random seed number: '))\n",
    "skf = StratifiedKFold(n_splits=n_splits,  shuffle=True, random_state= random_state)\n",
    "for train_index, test_index in skf.split(X, y):\n",
    "        train_index_list.append(train_index)\n",
    "        test_index_list.append(test_index)"
   ]
  },
  {
   "cell_type": "markdown",
   "id": "f4806ad1",
   "metadata": {},
   "source": [
    "# ---->    Start next split from here"
   ]
  },
  {
   "cell_type": "code",
   "execution_count": null,
   "id": "490b70cb",
   "metadata": {},
   "outputs": [],
   "source": [
    "data_split_set = int(input(\"Select split number train/test set: \"))\n",
    "n = data_split_set - 1\n",
    "epochs_highfilt_train = epochs_highfilt[train_index_list[n]] \n",
    "epochs_highfilt_test = epochs_highfilt[test_index_list[n]]"
   ]
  },
  {
   "cell_type": "code",
   "execution_count": null,
   "id": "4990825c",
   "metadata": {},
   "outputs": [],
   "source": [
    "print(n)"
   ]
  },
  {
   "cell_type": "code",
   "execution_count": null,
   "id": "bb5dbefa",
   "metadata": {},
   "outputs": [],
   "source": [
    "ar = autoreject.AutoReject(n_jobs=3)               \n",
    "ar.fit(epochs_highfilt_train[:])   # make subset for test and training data, do estimation on the train epochs and apply the result to both train and test set"
   ]
  },
  {
   "cell_type": "code",
   "execution_count": null,
   "id": "905a6069",
   "metadata": {},
   "outputs": [],
   "source": [
    "epochs_highfilt_ar, reject_log = ar.transform(epochs_highfilt_train, return_log = True)"
   ]
  },
  {
   "cell_type": "markdown",
   "id": "8dd26d2f",
   "metadata": {},
   "source": [
    "visualize bad epochs"
   ]
  },
  {
   "cell_type": "code",
   "execution_count": null,
   "id": "050006c9",
   "metadata": {},
   "outputs": [],
   "source": [
    "# epochs_highfilt_train[reject_log.bad_epochs].plot(scalings=dict(eeg=100e-6))"
   ]
  },
  {
   "cell_type": "markdown",
   "id": "c9865d0a",
   "metadata": {},
   "source": [
    "and visualize reject log."
   ]
  },
  {
   "cell_type": "code",
   "execution_count": null,
   "id": "9de3b1c1",
   "metadata": {
    "scrolled": true
   },
   "outputs": [],
   "source": [
    "# reject_log.plot('horizontal')"
   ]
  },
  {
   "cell_type": "markdown",
   "id": "de4a1087",
   "metadata": {},
   "source": [
    "**Supplying bad epoch log from Autoreject to ICA**"
   ]
  },
  {
   "cell_type": "code",
   "execution_count": null,
   "id": "18f8d77e",
   "metadata": {},
   "outputs": [],
   "source": [
    "ica = mne.preprocessing.ICA(method=\"picard\")\n",
    "ica.fit(epochs_highfilt_train[~reject_log.bad_epochs])    # make subset for test and training data, do estimation on the train epochs and apply the result to both train and test set"
   ]
  },
  {
   "cell_type": "markdown",
   "id": "3f7f2301",
   "metadata": {},
   "source": [
    "### Using an EOG channels to select ICA components automatically"
   ]
  },
  {
   "cell_type": "code",
   "execution_count": null,
   "id": "a3896db1",
   "metadata": {
    "scrolled": false
   },
   "outputs": [],
   "source": [
    "ica.exclude = []\n",
    "eog_indices, eog_scores = ica.find_bads_eog(raw)               # find which ICs match the EOG pattern\n",
    "ica.exclude = eog_indices\n",
    "\n",
    "ica.exclude"
   ]
  },
  {
   "cell_type": "code",
   "execution_count": null,
   "id": "cbc65950",
   "metadata": {
    "scrolled": false
   },
   "outputs": [],
   "source": [
    "from mne_icalabel import label_components\n",
    "\n",
    "# assuming you have a Raw and ICA instance previously fitted\n",
    "ic_labels = label_components(epochs, ica, method='iclabel')\n",
    "labels = ic_labels[\"labels\"]\n",
    "exclude_idx = [idx for idx, label in enumerate(labels) if label not in [\"brain\"]]\n",
    "print(f\"Excluding these ICA components: {exclude_idx}\")"
   ]
  },
  {
   "cell_type": "markdown",
   "id": "6656a586",
   "metadata": {},
   "source": [
    "**Manual picking of components**"
   ]
  },
  {
   "cell_type": "code",
   "execution_count": null,
   "id": "63a82ef0",
   "metadata": {},
   "outputs": [],
   "source": [
    "# ica.plot_sources(epochs)"
   ]
  },
  {
   "cell_type": "code",
   "execution_count": null,
   "id": "a84f8c0e",
   "metadata": {
    "scrolled": true
   },
   "outputs": [],
   "source": [
    "ica.plot_components(range(0, 58), inst= epochs)"
   ]
  },
  {
   "cell_type": "code",
   "execution_count": null,
   "id": "d00e9050",
   "metadata": {},
   "outputs": [],
   "source": [
    "# ica.plot_properties(epochs)\n"
   ]
  },
  {
   "cell_type": "code",
   "execution_count": null,
   "id": "77b4906d",
   "metadata": {},
   "outputs": [],
   "source": [
    "ica.exclude"
   ]
  },
  {
   "cell_type": "code",
   "execution_count": null,
   "id": "bf166498",
   "metadata": {},
   "outputs": [],
   "source": [
    "epochs_ica = epochs.copy()   \n",
    "ica.apply(epochs_ica)"
   ]
  },
  {
   "cell_type": "code",
   "execution_count": null,
   "id": "d071c3b9",
   "metadata": {},
   "outputs": [],
   "source": [
    "ica.plot_overlay(epochs.average(), exclude=ica.exclude)"
   ]
  },
  {
   "cell_type": "markdown",
   "id": "fb1088a5",
   "metadata": {},
   "source": [
    "**Plotting epochs after applying ICA**"
   ]
  },
  {
   "cell_type": "code",
   "execution_count": null,
   "id": "d5f6a4b3",
   "metadata": {},
   "outputs": [],
   "source": [
    "# epochs_ica.plot()"
   ]
  },
  {
   "cell_type": "code",
   "execution_count": null,
   "id": "ea990da0",
   "metadata": {},
   "outputs": [],
   "source": [
    "epochs_ica.plot_psd(fmax=20)"
   ]
  },
  {
   "cell_type": "markdown",
   "id": "f9516d0f",
   "metadata": {},
   "source": [
    "**Applying baseline correction**"
   ]
  },
  {
   "cell_type": "code",
   "execution_count": null,
   "id": "ab5f35c9",
   "metadata": {},
   "outputs": [],
   "source": [
    "epochs_ica.apply_baseline((-0.2, 0))"
   ]
  },
  {
   "cell_type": "code",
   "execution_count": null,
   "id": "ec250d0b",
   "metadata": {},
   "outputs": [],
   "source": [
    "epochs_ica.average().plot()"
   ]
  },
  {
   "cell_type": "markdown",
   "id": "a4df610b",
   "metadata": {},
   "source": [
    "### Splitting test and training sets"
   ]
  },
  {
   "cell_type": "code",
   "execution_count": null,
   "id": "974d8af8",
   "metadata": {},
   "outputs": [],
   "source": [
    "epochs_train_ica = epochs_ica[train_index_list[n]]\n",
    "epochs_test_ica = epochs_ica[test_index_list[n]]"
   ]
  },
  {
   "cell_type": "markdown",
   "id": "f56476d8",
   "metadata": {},
   "source": [
    "### Autoreject after ICA"
   ]
  },
  {
   "cell_type": "code",
   "execution_count": null,
   "id": "12fa0d95",
   "metadata": {},
   "outputs": [],
   "source": [
    "ar = autoreject.AutoReject(n_jobs=3)               \n",
    "ar.fit(epochs_train_ica[:])"
   ]
  },
  {
   "cell_type": "code",
   "execution_count": null,
   "id": "fab37d30",
   "metadata": {},
   "outputs": [],
   "source": [
    "epochs_train_clean, reject_log_train = ar.transform(epochs_train_ica, return_log=True)\n",
    "epochs_test_clean, reject_log_test = ar.transform(epochs_test_ica, return_log=True)"
   ]
  },
  {
   "cell_type": "code",
   "execution_count": null,
   "id": "6a1b60e1",
   "metadata": {},
   "outputs": [],
   "source": [
    "# epochs_train_ica[reject_log_train.bad_epochs].plot(scalings=dict(eeg=100e-6))\n",
    "# reject_log_train.plot('horizontal')"
   ]
  },
  {
   "cell_type": "code",
   "execution_count": null,
   "id": "e49aba01",
   "metadata": {},
   "outputs": [],
   "source": [
    "reject_log_train.plot_epochs(epochs_train_ica)"
   ]
  },
  {
   "cell_type": "code",
   "execution_count": null,
   "id": "9d86521f",
   "metadata": {},
   "outputs": [],
   "source": [
    "epochs_train_clean.plot()"
   ]
  },
  {
   "cell_type": "code",
   "execution_count": null,
   "id": "1bf85207",
   "metadata": {},
   "outputs": [],
   "source": [
    "epochs_test_clean.plot()"
   ]
  },
  {
   "cell_type": "code",
   "execution_count": null,
   "id": "f13f3a15",
   "metadata": {},
   "outputs": [],
   "source": [
    "epochs_train_clean.average().plot()"
   ]
  },
  {
   "cell_type": "code",
   "execution_count": null,
   "id": "15de2525",
   "metadata": {},
   "outputs": [],
   "source": [
    "epochs_test_clean.average().plot()"
   ]
  },
  {
   "cell_type": "code",
   "execution_count": null,
   "id": "84b6d72a",
   "metadata": {},
   "outputs": [],
   "source": [
    "epochs_train_clean"
   ]
  },
  {
   "cell_type": "markdown",
   "id": "f352fc1a",
   "metadata": {},
   "source": [
    "**Saving epochs**"
   ]
  },
  {
   "cell_type": "code",
   "execution_count": null,
   "id": "6505ee95",
   "metadata": {},
   "outputs": [],
   "source": [
    "data_path_out = r'D:\\Master_thesis'\n",
    "dir_save= os.path.join(data_path_out, 'Pre-processed_data', subject)\n",
    "epochs_train_name = os.path.join(f\"{dir_save}\\{subject}-preprocessed_train_{data_split_set}-epo.fif\")\n",
    "epochs_test_name = os.path.join(f\"{dir_save}\\{subject}-preprocessed_test_{data_split_set}-epo.fif\")\n",
    "\n",
    "if not op.exists(dir_save):\n",
    "            os.makedirs(dir_save)\n",
    "overwrite = True\n",
    "epochs_train_clean.save(epochs_train_name, overwrite = overwrite)\n",
    "epochs_test_clean.save(epochs_test_name, overwrite = overwrite)\n",
    "\n",
    "if data_split_set>=5:\n",
    "    print(f\"Epochs for train/test for all splits saved\")\n",
    "else:\n",
    "    print(f\"Epochs for train/test split no. {data_split_set} saved, continue next iteration with split no. {data_split_set+1}\")\n",
    "\n"
   ]
  },
  {
   "cell_type": "code",
   "execution_count": null,
   "id": "118d602b",
   "metadata": {},
   "outputs": [],
   "source": []
  }
 ],
 "metadata": {
  "kernelspec": {
   "display_name": "Python 3 (ipykernel)",
   "language": "python",
   "name": "python3"
  },
  "language_info": {
   "codemirror_mode": {
    "name": "ipython",
    "version": 3
   },
   "file_extension": ".py",
   "mimetype": "text/x-python",
   "name": "python",
   "nbconvert_exporter": "python",
   "pygments_lexer": "ipython3",
   "version": "3.9.5"
  }
 },
 "nbformat": 4,
 "nbformat_minor": 5
}
