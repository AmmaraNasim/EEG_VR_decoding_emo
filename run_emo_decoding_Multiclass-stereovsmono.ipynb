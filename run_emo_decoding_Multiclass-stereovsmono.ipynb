{
 "cells": [
  {
   "cell_type": "code",
   "execution_count": null,
   "id": "05dd3de1",
   "metadata": {},
   "outputs": [],
   "source": [
    "%matplotlib qt\n",
    "%gui qt5\n",
    "%matplotlib inline"
   ]
  },
  {
   "cell_type": "code",
   "execution_count": null,
   "id": "8d653ab6",
   "metadata": {},
   "outputs": [],
   "source": [
    "import pandas as pd\n",
    "import numpy as np\n",
    "import os\n",
    "import os.path as op\n",
    "import csv\n",
    "import matplotlib.pyplot as plt\n",
    "import mne\n",
    "from mne.decoding import SlidingEstimator\n",
    "from sklearn.utils import shuffle\n",
    "import sklearn\n",
    "from sklearn.pipeline import make_pipeline\n",
    "from sklearn.preprocessing import StandardScaler\n",
    "from sklearn.linear_model import LogisticRegression\n",
    "from sklearn.linear_model import ElasticNet\n",
    "import batch_average as ba"
   ]
  },
  {
   "cell_type": "markdown",
   "id": "d04f853e",
   "metadata": {},
   "source": [
    "### Importing preprocessed data - epochs"
   ]
  },
  {
   "cell_type": "code",
   "execution_count": null,
   "id": "5c39098a",
   "metadata": {},
   "outputs": [],
   "source": [
    "overwrite = True\n",
    "eeg_path = r'D:\\Master_thesis\\Pre-processed_data'\n",
    "data_path_out = r'D:\\Master_thesis\\Figures\\Multiclass\\sterovsmono'\n",
    "data_path_out_scores = r'D:\\Master_thesis\\Scores\\Multiclass\\sterovsmono'"
   ]
  },
  {
   "cell_type": "markdown",
   "id": "f9bca68d",
   "metadata": {},
   "source": [
    "# Multiclass"
   ]
  },
  {
   "cell_type": "code",
   "execution_count": null,
   "id": "73847a50",
   "metadata": {
    "scrolled": true
   },
   "outputs": [],
   "source": [
    "l1_ratio = [0.05]\n",
    "C = [0.1, 0.01]\n",
    "scoring = 'accuracy' \n",
    "\n",
    "\n",
    "n_split= np.arange(1, 6, dtype=int)\n",
    "# n_split= [1]\n",
    "# subjects = ['VR2FEM_S01', 'VR2FEM_S02', 'VR2FEM_S03', 'VR2FEM_S04', 'VR2FEM_S05','VR2FEM_S06','VR2FEM_S07','VR2FEM_S08','VR2FEM_S10','VR2FEM_S11','VR2FEM_S12', 'VR2FEM_S14', 'VR2FEM_S15', 'VR2FEM_S17', 'VR2FEM_S18', 'VR2FEM_S21']\n",
    "\n",
    "\n",
    "# subjects = ['VR2FEM_S18', 'VR2FEM_S02', 'VR2FEM_S03', 'VR2FEM_S04']\n",
    "viewing_conditions = [ \"stereo/neutral\",\"stereo/happy\", \"stereo/angry\", \"stereo/surprised\"], \\\n",
    "                    [ \"mono/neutral\",\"mono/happy\", \"mono/angry\", \"mono/surprised\"]\n",
    "\n",
    "for subject in os.listdir(eeg_path):\n",
    "    data_path = os.path.join(eeg_path, subject)\n",
    "    #reading preprocessed data -epochs\n",
    "    \n",
    "    epochs_train_list = []\n",
    "    epochs_test_list = []\n",
    "    \n",
    "    for items in n_split:\n",
    "\n",
    "        epochs_train_name = os.path.join(f\"{data_path}\\{subject}-preprocessed_train_{items}-epo.fif\")\n",
    "        epochs_test_name = os.path.join(f\"{data_path}\\{subject}-preprocessed_test_{items}-epo.fif\")\n",
    "        epochs_train = mne.read_epochs(epochs_train_name, preload=True)\n",
    "        epochs_test = mne.read_epochs(epochs_test_name, preload=True)\n",
    "        epochs_train_list.append(epochs_train)\n",
    "        epochs_test_list.append(epochs_test)\n",
    "    for view in viewing_conditions:\n",
    "        print(f\"Viewing Condition: {view}\")\n",
    "        viewing_type = view[0].split(\"/\")[0]\n",
    "\n",
    "        scores_avg_all = []\n",
    "        predictions_all = []\n",
    "        y_test_all = []\n",
    "\n",
    "        for l1 in l1_ratio:\n",
    "            for cs in C:\n",
    "                print(\"Running reg. ratio for: \",l1)\n",
    "                print(\"Running reg. strength for: \",cs)   \n",
    "                clf = make_pipeline(\n",
    "                StandardScaler(),\n",
    "                LogisticRegression(multi_class='ovr', max_iter = 4000, solver='saga',penalty='elasticnet', l1_ratio=l1, C=cs))\n",
    "\n",
    "                time_decoder = SlidingEstimator(clf, scoring=scoring, n_jobs=1, verbose=True)\n",
    "\n",
    "                print(\"----------------Start Split ----------------\")\n",
    "\n",
    "                scores_all_mini = []\n",
    "\n",
    "                for split in n_split:\n",
    "                    print(f\"Subject: {subject} Number of test/train split: {split} for L1 ratio : {l1} and strength: {cs}\")\n",
    "                    n = split-1\n",
    "                    x_train = epochs_train_list[n][view].get_data()\n",
    "                    events_train = epochs_train_list[n][view].events[:,2]\n",
    "                    y_train = [int(str(yy)[-1]) for yy in events_train]\n",
    "\n",
    "                    x_test = epochs_test_list[n][view].get_data()\n",
    "                    events_test = epochs_test_list[n][view].events[:,2]\n",
    "                    y_test = [int(str(yy)[-1]) for yy in events_test] \n",
    "\n",
    "                    time_decoder.fit(x_train, y_train)\n",
    "                    predictions = time_decoder.predict(x_test)\n",
    "                    scores_mini = time_decoder.score(x_test, y_test)\n",
    "                    scores_all_mini.append([scores_mini[:]])\n",
    "\n",
    "                print(\"----------------Ending Split ----------------\")\n",
    "                scores_CV_mini = np.vstack(scores_all_mini)\n",
    "                scores_avg_mini = np.mean(scores_CV_mini, axis=0)\n",
    "                print(\"----------------Running visuals ----------------\")   \n",
    "\n",
    "                dir_save= os.path.join(data_path_out_scores, subject)\n",
    "\n",
    "                if not op.exists(dir_save):\n",
    "                        os.makedirs(dir_save)\n",
    "                score_file_name = f\"{dir_save}\\{subject}_multiclass_decoding_L1_ratio {l1}_C_{cs}_{viewing_type}.csv\"\n",
    "                print(score_file_name)\n",
    "                with open(score_file_name, \"w\") as file:\n",
    "                    writer = csv.writer(file)\n",
    "                    writer.writerow([scores_avg_mini])\n",
    "\n",
    "                fig, ax = plt.subplots()\n",
    "                ax.plot(epochs_train.times, scores_avg_mini, label='score')\n",
    "                ax.axhline(.25, color='k', linestyle='--', label='chance')\n",
    "                ax.axvline(.0, color='k', linestyle='-')\n",
    "                ax.set_xlabel('Times')\n",
    "                ax.set_ylabel('Accuracy')  \n",
    "                ax.legend()\n",
    "                ax.axvline(.0, color='k', linestyle='-')\n",
    "                ax.set_title(f\"Multiclass Decoding - Stereo vs Mono\")\n",
    "\n",
    "\n",
    "                dir_save= os.path.join(data_path_out, subject)\n",
    "                if not op.exists(dir_save):\n",
    "                            os.makedirs(dir_save)\n",
    "                overwrite = True\n",
    "                resolution_value = 1200\n",
    "                plt.savefig(f\"{dir_save}\\{subject}_multiclass_decoding_L1_ratio_{l1}_C_{cs}_{viewing_type}.jpg\", dpi=resolution_value, overwrite= overwrite)\n"
   ]
  },
  {
   "cell_type": "code",
   "execution_count": null,
   "id": "1a3c977a",
   "metadata": {},
   "outputs": [],
   "source": []
  }
 ],
 "metadata": {
  "kernelspec": {
   "display_name": "Python 3 (ipykernel)",
   "language": "python",
   "name": "python3"
  },
  "language_info": {
   "codemirror_mode": {
    "name": "ipython",
    "version": 3
   },
   "file_extension": ".py",
   "mimetype": "text/x-python",
   "name": "python",
   "nbconvert_exporter": "python",
   "pygments_lexer": "ipython3",
   "version": "3.9.10"
  }
 },
 "nbformat": 4,
 "nbformat_minor": 5
}
